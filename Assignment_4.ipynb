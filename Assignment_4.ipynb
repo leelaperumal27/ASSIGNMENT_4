{
 "cells": [
  {
   "cell_type": "markdown",
   "metadata": {},
   "source": [
    "1.1 Write a Python Program(with class concepts) to find the area of the triangle using the below\n",
    "formula.\n",
    "area = (s*(s-a)*(s-b)*(s-c)) ** 0.5\n",
    "Function to take the length of the sides of triangle from user should be defined in the parent\n",
    "class and function to calculate the area should be defined in subclass."
   ]
  },
  {
   "cell_type": "code",
   "execution_count": 6,
   "metadata": {},
   "outputs": [
    {
     "name": "stdout",
     "output_type": "stream",
     "text": [
      "Enter the side\n",
      "12\n",
      "17\n",
      "13\n",
      "Area of the Triangle\n",
      "3024.0\n"
     ]
    }
   ],
   "source": [
    "class Triangle:\n",
    "    def __init__(self):\n",
    "        self.s=self.side()\n",
    "        \n",
    "    def side1(self):\n",
    "        print(\"Enter the side\")\n",
    "        a=int(input())\n",
    "        b=int(input())\n",
    "        c=int(input())\n",
    "        s=(a+b+c)/2\n",
    "        self.s.s1(s,a,b,c)\n",
    "        \n",
    "    class side:\n",
    "        def s1(self,s,a,b,c):\n",
    "            print(\"Area of the Triangle\")\n",
    "            print(((s*(s-a)*(s-b)*(s-c)) * 0.5))\n",
    "            \n",
    "\n",
    "t=Triangle()\n",
    "t.side1()\n",
    "\n",
    "\n",
    "        "
   ]
  },
  {
   "cell_type": "markdown",
   "metadata": {},
   "source": [
    "1.2 Write a function filter_long_words() that takes a list of words and an integer n and returns\n",
    "the list of words that are longer than n."
   ]
  },
  {
   "cell_type": "code",
   "execution_count": 7,
   "metadata": {},
   "outputs": [
    {
     "name": "stdout",
     "output_type": "stream",
     "text": [
      "List of words greter than n\n",
      "['basket', 'orange', 'banana', 'watermelon']\n"
     ]
    }
   ],
   "source": [
    "def filter_long_words(list,n):\n",
    "    l1=[]\n",
    "    for word in list:\n",
    "        if(len(word)>n):\n",
    "            l1.append(word)\n",
    "    return l1\n",
    "\n",
    "list=[\"apple\",\"ball\",\"basket\",\"orange\",\"banana\",\"watermelon\",\"grape\"]\n",
    "n=5\n",
    "print(\"List of words greter than n\")\n",
    "print(filter_long_words(list,n))\n"
   ]
  },
  {
   "cell_type": "markdown",
   "metadata": {},
   "source": [
    "2.1 Write a Python program using function concept that maps list of words into a list of integers\n",
    "representing the lengths of the corresponding words.\n",
    "Hint: If a list [ ab,cde,erty] is passed on to the python function output should come as [2,3,4]\n",
    "Here 2,3 and 4 are the lengths of the words in the list."
   ]
  },
  {
   "cell_type": "code",
   "execution_count": 8,
   "metadata": {},
   "outputs": [
    {
     "name": "stdout",
     "output_type": "stream",
     "text": [
      "(2, 3, 4)\n"
     ]
    }
   ],
   "source": [
    "list1= [\"ab\",\"cde\",\"erty\"]\n",
    "n=(map(lambda x:len(x),list1))\n",
    "print(tuple(n))\n"
   ]
  },
  {
   "cell_type": "markdown",
   "metadata": {},
   "source": [
    "2.2 Write a Python function which takes a character (i.e. a string of length 1) and returns True if\n",
    "it is a vowel, False otherwise."
   ]
  },
  {
   "cell_type": "code",
   "execution_count": 10,
   "metadata": {},
   "outputs": [
    {
     "name": "stdout",
     "output_type": "stream",
     "text": [
      "Enter the chatacter\n",
      "a\n",
      "True\n"
     ]
    }
   ],
   "source": [
    "print(\"Enter the chatacter\")\n",
    "ch=input()\n",
    "s=\"aeiouAEIOU\"\n",
    "\n",
    "if ch not in s:\n",
    "    print(\"False\")\n",
    "else:\n",
    "    print(\"True\")"
   ]
  },
  {
   "cell_type": "code",
   "execution_count": null,
   "metadata": {},
   "outputs": [],
   "source": []
  },
  {
   "cell_type": "code",
   "execution_count": null,
   "metadata": {},
   "outputs": [],
   "source": []
  }
 ],
 "metadata": {
  "kernelspec": {
   "display_name": "Python 3",
   "language": "python",
   "name": "python3"
  },
  "language_info": {
   "codemirror_mode": {
    "name": "ipython",
    "version": 3
   },
   "file_extension": ".py",
   "mimetype": "text/x-python",
   "name": "python",
   "nbconvert_exporter": "python",
   "pygments_lexer": "ipython3",
   "version": "3.7.4"
  }
 },
 "nbformat": 4,
 "nbformat_minor": 2
}
